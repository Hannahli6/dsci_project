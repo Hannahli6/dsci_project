{
 "cells": [
  {
   "cell_type": "code",
   "execution_count": 6,
   "id": "a26cc71f-cc36-44cc-86ce-cc59753fdf7d",
   "metadata": {},
   "outputs": [],
   "source": [
    "library(tidyverse)\n",
    "library(repr)\n",
    "library(tidymodels)\n",
    "library(ggplot2)\n",
    "options(repr.matrix.max.rows = 6)"
   ]
  },
  {
   "cell_type": "markdown",
   "id": "0f6d8c70-cdf7-4a9a-8d3a-3ffed0a49aec",
   "metadata": {},
   "source": [
    "Introduction\n"
   ]
  },
  {
   "cell_type": "code",
   "execution_count": 7,
   "id": "05af9539-6aa7-4a48-917b-342acd8a009a",
   "metadata": {},
   "outputs": [
    {
     "ename": "ERROR",
     "evalue": "Error in parse(text = x, srcfile = src): <text>:6:16: unexpected symbol\n5: stroke_data <- read_csv('stroke_dataset.csv')\n6: # Convert 1 = \"Yes\n                  ^\n",
     "output_type": "error",
     "traceback": [
      "Error in parse(text = x, srcfile = src): <text>:6:16: unexpected symbol\n5: stroke_data <- read_csv('stroke_dataset.csv')\n6: # Convert 1 = \"Yes\n                  ^\nTraceback:\n"
     ]
    }
   ],
   "source": [
    "#set seed\n",
    "set.seed(1)\n",
    "\n",
    "download.file(\"https://raw.githubusercontent.com/Hannahli6/dsci_project/main/stroke_dataset.csv, 'stroke_dataset.csv')\n",
    "stroke_data <- read_csv('stroke_dataset.csv')\n",
    "# Convert 1 = \"Yes\", 0 = \"No\" for the stroke column\n",
    "stroke_column <- stroke_data |>\n",
    "            mutate(stroke = as.character(stroke)) |>\n",
    "            select(stroke) \n",
    "stroke_column[stroke_column == 1] <- \"Yes\"\n",
    "stroke_column[stroke_column == 0] <- \"No\"\n",
    "\n",
    "\n",
    "stroke_data[\"stroke\"] <- stroke_column |>\n",
    "        mutate(stroke = as_factor(stroke))\n",
    "\n",
    "stroke_data <- stroke_data |>\n",
    "    select(stroke, age, avg_glucose_level, bmi)\n",
    "\n",
    "#Split the data into training\n",
    "stroke_data_split <- initial_split(stroke_data, prop = 0.75, strata = stroke)  \n",
    "stroke_data_training <- training(stroke_data_split)  \n",
    "stroke_data_testing <- testing(stroke_data_split)\n",
    "\n",
    "#missing data\n",
    "stroke_data_missing <- stroke_data_training|>\n",
    "    filter(bmi == \"N/A\") |>\n",
    "    summarize(missing_data = n())\n",
    "stroke_data_missing\n",
    "\n",
    "#summarize exploratory data\n",
    "num_obs <- nrow(stroke_data_training) \n",
    "summarize_data <- stroke_data_training|>\n",
    "    filter(bmi != \"N/A\")|>\n",
    "    mutate(bmi = as.numeric(bmi)) |>\n",
    "    group_by(stroke) |>\n",
    "    summarize(count = n(), percentage = n() / num_obs * 100 , avg_age = mean(age), avg_glucose_level= mean(avg_glucose_level), \n",
    "              avg_bmi = mean(bmi))\n",
    "    \n",
    "summarize_data \n",
    "\n",
    "stroke_plot <- stroke_data_training |>\n",
    "    filter(bmi != \"N/A\")|>\n",
    "    mutate(bmi = as.numeric(bmi)) |>\n",
    "    ggplot(aes (x= bmi, y=avg_glucose_level, color= age)) +\n",
    "    facet_grid(~stroke) +\n",
    "    geom_point() +\n",
    "    labs(x= \"BMI (kg/m^2)\", y = \"Average Glucose Level (mg/dL)\", colour = \"Age\" ,title = \"Average Glucose level VS Age VS BMI \\n of patient with Stroke & Without Stroke\") +\n",
    "    theme(text = element_text(size = 12)) +\n",
    "    theme(plot.title = element_text(hjust = 0.5))\n",
    "stroke_plot\n",
    "\n",
    "\n"
   ]
  },
  {
   "cell_type": "code",
   "execution_count": null,
   "id": "6c2ccc03-bb58-4f0c-8536-87a1c7c1f093",
   "metadata": {},
   "outputs": [],
   "source": []
  },
  {
   "cell_type": "code",
   "execution_count": null,
   "id": "f0b15ff0-9ec6-4279-939e-64f48ab45157",
   "metadata": {},
   "outputs": [],
   "source": []
  },
  {
   "cell_type": "code",
   "execution_count": null,
   "id": "b5e4094d-9953-4dfe-9c6e-7440d3505abc",
   "metadata": {},
   "outputs": [],
   "source": []
  },
  {
   "cell_type": "code",
   "execution_count": null,
   "id": "e8375ebc-e6cf-42f6-9447-6eb8e41e1e05",
   "metadata": {},
   "outputs": [],
   "source": []
  }
 ],
 "metadata": {
  "kernelspec": {
   "display_name": "R",
   "language": "R",
   "name": "ir"
  },
  "language_info": {
   "codemirror_mode": "r",
   "file_extension": ".r",
   "mimetype": "text/x-r-source",
   "name": "R",
   "pygments_lexer": "r",
   "version": "4.3.1"
  }
 },
 "nbformat": 4,
 "nbformat_minor": 5
}
